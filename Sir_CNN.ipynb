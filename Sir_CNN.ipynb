{
  "nbformat": 4,
  "nbformat_minor": 0,
  "metadata": {
    "colab": {
      "name": "Sir_CNN.ipynb",
      "provenance": [],
      "collapsed_sections": []
    },
    "kernelspec": {
      "name": "python3",
      "display_name": "Python 3"
    },
    "accelerator": "GPU"
  },
  "cells": [
    {
      "cell_type": "code",
      "metadata": {
        "id": "x45jPbFO_hnU",
        "colab_type": "code",
        "colab": {}
      },
      "source": [
        "import numpy as np\n",
        "import matplotlib.pyplot as plt\n",
        "import pandas as pd"
      ],
      "execution_count": 0,
      "outputs": []
    },
    {
      "cell_type": "code",
      "metadata": {
        "id": "9cXLbaeD_k0h",
        "colab_type": "code",
        "colab": {}
      },
      "source": [
        "data = pd.read_csv('data_power.csv')"
      ],
      "execution_count": 0,
      "outputs": []
    },
    {
      "cell_type": "code",
      "metadata": {
        "id": "6Dam8MOMQ6nc",
        "colab_type": "code",
        "colab": {}
      },
      "source": [
        "dataset = data['output'].replace(to_replace = ['h','in','ou','brb1','brb3'],value = [2,3,4,0,1])\n",
        "Y_GRP= dataset.values\n",
        "Y_TR = Y_GRP[:100]\n",
        "Y_TS = Y_GRP[100:]\n"
      ],
      "execution_count": 0,
      "outputs": []
    },
    {
      "cell_type": "code",
      "metadata": {
        "id": "nERWFGOMJ3zH",
        "colab_type": "code",
        "colab": {}
      },
      "source": [
        "import pandas\n",
        "from keras.models import Sequential\n",
        "from keras.layers import Dense\n",
        "from keras.layers import Dropout\n",
        "from keras.wrappers.scikit_learn import KerasClassifier\n",
        "from keras.utils import np_utils\n",
        "from sklearn.model_selection import cross_val_score\n",
        "from sklearn.model_selection import KFold\n",
        "from sklearn.preprocessing import LabelEncoder\n",
        "from sklearn.pipeline import Pipeline"
      ],
      "execution_count": 0,
      "outputs": []
    },
    {
      "cell_type": "code",
      "metadata": {
        "id": "Ichb6VF9AOOp",
        "colab_type": "code",
        "colab": {}
      },
      "source": [
        "# multi-class classification with Keras\n",
        "\n",
        "# load dataset\n",
        "#dataframe = pandas.read_csv(\"iris.data\", header=None)\n",
        "dataset = data.values\n",
        "X = dataset[:,0:11].astype(float)\n",
        "Y = dataset[:,11]"
      ],
      "execution_count": 0,
      "outputs": []
    },
    {
      "cell_type": "code",
      "metadata": {
        "id": "xDg45imGK2kg",
        "colab_type": "code",
        "colab": {}
      },
      "source": [
        ""
      ],
      "execution_count": 0,
      "outputs": []
    },
    {
      "cell_type": "code",
      "metadata": {
        "id": "t0E1BBI6K2fY",
        "colab_type": "code",
        "colab": {}
      },
      "source": [
        ""
      ],
      "execution_count": 0,
      "outputs": []
    },
    {
      "cell_type": "code",
      "metadata": {
        "id": "wU8aeY4sBEWv",
        "colab_type": "code",
        "colab": {}
      },
      "source": [
        "encoder = LabelEncoder()\n",
        "encoder.fit(Y)\n",
        "encoded_Y = encoder.transform(Y)\n",
        "# convert integers to dummy variables (i.e. one hot encoded)\n",
        "dummy_y = np_utils.to_categorical(encoded_Y)"
      ],
      "execution_count": 0,
      "outputs": []
    },
    {
      "cell_type": "code",
      "metadata": {
        "id": "Rcz0NWeHBHdX",
        "colab_type": "code",
        "colab": {}
      },
      "source": [
        "x_train = X[:100,:]\n",
        "x_test = X[100:,:]\n",
        "y_train = dummy_y[:100,:]\n",
        "y_test = dummy_y[100:,:]\n",
        "x_train = x_train.reshape(100,11,1)\n",
        "x_test = x_test.reshape(100,11,1)\n",
        "#y_train = y_train.reshape(100,5,1)\n",
        "#y_test = y_test.reshape(100,5,1)"
      ],
      "execution_count": 0,
      "outputs": []
    },
    {
      "cell_type": "code",
      "metadata": {
        "id": "acVnTf8ZDEQW",
        "colab_type": "code",
        "outputId": "e7169bd6-e475-418b-f8b9-7a7b6453843a",
        "colab": {
          "base_uri": "https://localhost:8080/",
          "height": 85
        }
      },
      "source": [
        "print(x_train.shape)\n",
        "print(x_test.shape)\n",
        "print(y_train.shape)\n",
        "print(y_test.shape)"
      ],
      "execution_count": 0,
      "outputs": [
        {
          "output_type": "stream",
          "text": [
            "(100, 11, 1)\n",
            "(100, 11, 1)\n",
            "(100, 5)\n",
            "(100, 5)\n"
          ],
          "name": "stdout"
        }
      ]
    },
    {
      "cell_type": "code",
      "metadata": {
        "id": "ukmhkjzYDxsz",
        "colab_type": "code",
        "colab": {}
      },
      "source": [
        "from keras.layers import Dense\n",
        "from keras.layers import Flatten\n",
        "from keras.layers import Dropout\n",
        "from keras.layers.convolutional import Conv1D\n",
        "from keras.layers.convolutional import MaxPooling1D\n",
        "from keras.utils import to_categorical"
      ],
      "execution_count": 0,
      "outputs": []
    },
    {
      "cell_type": "code",
      "metadata": {
        "id": "To0sJxh4Batk",
        "colab_type": "code",
        "colab": {}
      },
      "source": [
        "n_steps,n_features = 11,1\n",
        "model = Sequential()\n",
        "model.add(Conv1D(filters=32, kernel_size=3, activation='relu', input_shape=(n_steps, n_features)))\n",
        "model.add(MaxPooling1D(pool_size=2))\n",
        "model.add(Flatten())\n",
        "model.add(Dense(150, activation='sigmoid'))\n",
        "model.add(Dense(50, activation='sigmoid'))\n",
        "\n",
        "model.add(Dense(50, activation='sigmoid'))\n",
        "\n",
        "model.add(Dense(5, activation='softmax'))\n",
        "model.compile(loss='categorical_crossentropy', optimizer='adam', metrics=['accuracy'])"
      ],
      "execution_count": 0,
      "outputs": []
    },
    {
      "cell_type": "code",
      "metadata": {
        "id": "kFvKGFtFDN-a",
        "colab_type": "code",
        "outputId": "6ce4c806-6ff9-4ad8-d4fe-3659d9ecb24f",
        "colab": {
          "base_uri": "https://localhost:8080/",
          "height": 1000
        }
      },
      "source": [
        "\n",
        "history = model.fit(x_train, y_train, epochs=350, verbose=1,batch_size=5, validation_data=(x_test, y_test))\n"
      ],
      "execution_count": 0,
      "outputs": [
        {
          "output_type": "stream",
          "text": [
            "Train on 100 samples, validate on 100 samples\n",
            "Epoch 1/350\n",
            "100/100 [==============================] - 1s 11ms/step - loss: 1.6788 - acc: 0.1500 - val_loss: 1.6134 - val_acc: 0.2000\n",
            "Epoch 2/350\n",
            "100/100 [==============================] - 0s 2ms/step - loss: 1.6182 - acc: 0.1900 - val_loss: 1.6089 - val_acc: 0.2300\n",
            "Epoch 3/350\n",
            "100/100 [==============================] - 0s 2ms/step - loss: 1.6218 - acc: 0.2100 - val_loss: 1.6079 - val_acc: 0.2000\n",
            "Epoch 4/350\n",
            "100/100 [==============================] - 0s 2ms/step - loss: 1.6197 - acc: 0.1800 - val_loss: 1.6067 - val_acc: 0.2600\n",
            "Epoch 5/350\n",
            "100/100 [==============================] - 0s 2ms/step - loss: 1.6158 - acc: 0.2000 - val_loss: 1.6024 - val_acc: 0.2000\n",
            "Epoch 6/350\n",
            "100/100 [==============================] - 0s 2ms/step - loss: 1.6164 - acc: 0.2000 - val_loss: 1.6000 - val_acc: 0.2000\n",
            "Epoch 7/350\n",
            "100/100 [==============================] - 0s 2ms/step - loss: 1.6165 - acc: 0.1900 - val_loss: 1.5947 - val_acc: 0.2700\n",
            "Epoch 8/350\n",
            "100/100 [==============================] - 0s 2ms/step - loss: 1.6007 - acc: 0.3200 - val_loss: 1.5874 - val_acc: 0.4400\n",
            "Epoch 9/350\n",
            "100/100 [==============================] - 0s 2ms/step - loss: 1.5934 - acc: 0.2300 - val_loss: 1.5795 - val_acc: 0.3300\n",
            "Epoch 10/350\n",
            "100/100 [==============================] - 0s 2ms/step - loss: 1.5806 - acc: 0.3400 - val_loss: 1.5662 - val_acc: 0.4100\n",
            "Epoch 11/350\n",
            "100/100 [==============================] - 0s 2ms/step - loss: 1.5710 - acc: 0.3500 - val_loss: 1.5504 - val_acc: 0.4300\n",
            "Epoch 12/350\n",
            "100/100 [==============================] - 0s 2ms/step - loss: 1.5642 - acc: 0.3700 - val_loss: 1.5321 - val_acc: 0.4100\n",
            "Epoch 13/350\n",
            "100/100 [==============================] - 0s 2ms/step - loss: 1.5306 - acc: 0.3700 - val_loss: 1.5101 - val_acc: 0.3800\n",
            "Epoch 14/350\n",
            "100/100 [==============================] - 0s 2ms/step - loss: 1.5200 - acc: 0.3800 - val_loss: 1.4857 - val_acc: 0.4100\n",
            "Epoch 15/350\n",
            "100/100 [==============================] - 0s 2ms/step - loss: 1.4894 - acc: 0.3700 - val_loss: 1.4648 - val_acc: 0.4300\n",
            "Epoch 16/350\n",
            "100/100 [==============================] - 0s 2ms/step - loss: 1.4803 - acc: 0.4000 - val_loss: 1.4430 - val_acc: 0.4400\n",
            "Epoch 17/350\n",
            "100/100 [==============================] - 0s 2ms/step - loss: 1.4492 - acc: 0.4300 - val_loss: 1.4247 - val_acc: 0.4200\n",
            "Epoch 18/350\n",
            "100/100 [==============================] - 0s 2ms/step - loss: 1.4329 - acc: 0.4200 - val_loss: 1.4048 - val_acc: 0.4200\n",
            "Epoch 19/350\n",
            "100/100 [==============================] - 0s 2ms/step - loss: 1.4155 - acc: 0.4100 - val_loss: 1.3904 - val_acc: 0.4400\n",
            "Epoch 20/350\n",
            "100/100 [==============================] - 0s 2ms/step - loss: 1.4008 - acc: 0.4500 - val_loss: 1.3765 - val_acc: 0.4400\n",
            "Epoch 21/350\n",
            "100/100 [==============================] - 0s 2ms/step - loss: 1.3829 - acc: 0.4600 - val_loss: 1.3624 - val_acc: 0.4600\n",
            "Epoch 22/350\n",
            "100/100 [==============================] - 0s 2ms/step - loss: 1.3671 - acc: 0.4400 - val_loss: 1.3566 - val_acc: 0.4200\n",
            "Epoch 23/350\n",
            "100/100 [==============================] - 0s 2ms/step - loss: 1.3500 - acc: 0.4700 - val_loss: 1.3359 - val_acc: 0.4800\n",
            "Epoch 24/350\n",
            "100/100 [==============================] - 0s 2ms/step - loss: 1.3472 - acc: 0.4900 - val_loss: 1.3208 - val_acc: 0.4700\n",
            "Epoch 25/350\n",
            "100/100 [==============================] - 0s 2ms/step - loss: 1.3272 - acc: 0.4900 - val_loss: 1.3093 - val_acc: 0.5000\n",
            "Epoch 26/350\n",
            "100/100 [==============================] - 0s 2ms/step - loss: 1.3278 - acc: 0.4600 - val_loss: 1.2950 - val_acc: 0.5100\n",
            "Epoch 27/350\n",
            "100/100 [==============================] - 0s 2ms/step - loss: 1.2956 - acc: 0.4900 - val_loss: 1.2799 - val_acc: 0.4900\n",
            "Epoch 28/350\n",
            "100/100 [==============================] - 0s 2ms/step - loss: 1.2825 - acc: 0.5000 - val_loss: 1.2641 - val_acc: 0.5100\n",
            "Epoch 29/350\n",
            "100/100 [==============================] - 0s 2ms/step - loss: 1.2700 - acc: 0.5100 - val_loss: 1.2514 - val_acc: 0.5300\n",
            "Epoch 30/350\n",
            "100/100 [==============================] - 0s 2ms/step - loss: 1.2560 - acc: 0.5000 - val_loss: 1.2329 - val_acc: 0.5100\n",
            "Epoch 31/350\n",
            "100/100 [==============================] - 0s 2ms/step - loss: 1.2405 - acc: 0.4800 - val_loss: 1.2163 - val_acc: 0.5300\n",
            "Epoch 32/350\n",
            "100/100 [==============================] - 0s 2ms/step - loss: 1.2379 - acc: 0.4700 - val_loss: 1.2024 - val_acc: 0.5100\n",
            "Epoch 33/350\n",
            "100/100 [==============================] - 0s 2ms/step - loss: 1.2261 - acc: 0.5100 - val_loss: 1.1985 - val_acc: 0.5400\n",
            "Epoch 34/350\n",
            "100/100 [==============================] - 0s 2ms/step - loss: 1.1937 - acc: 0.4800 - val_loss: 1.1726 - val_acc: 0.5000\n",
            "Epoch 35/350\n",
            "100/100 [==============================] - 0s 2ms/step - loss: 1.1899 - acc: 0.5100 - val_loss: 1.1504 - val_acc: 0.5500\n",
            "Epoch 36/350\n",
            "100/100 [==============================] - 0s 2ms/step - loss: 1.1589 - acc: 0.5100 - val_loss: 1.1340 - val_acc: 0.5300\n",
            "Epoch 37/350\n",
            "100/100 [==============================] - 0s 2ms/step - loss: 1.1438 - acc: 0.5400 - val_loss: 1.1178 - val_acc: 0.5700\n",
            "Epoch 38/350\n",
            "100/100 [==============================] - 0s 2ms/step - loss: 1.1419 - acc: 0.5300 - val_loss: 1.1091 - val_acc: 0.5500\n",
            "Epoch 39/350\n",
            "100/100 [==============================] - 0s 2ms/step - loss: 1.1362 - acc: 0.5700 - val_loss: 1.0965 - val_acc: 0.5400\n",
            "Epoch 40/350\n",
            "100/100 [==============================] - 0s 2ms/step - loss: 1.1006 - acc: 0.5600 - val_loss: 1.0787 - val_acc: 0.5400\n",
            "Epoch 41/350\n",
            "100/100 [==============================] - 0s 2ms/step - loss: 1.0859 - acc: 0.5500 - val_loss: 1.0629 - val_acc: 0.5600\n",
            "Epoch 42/350\n",
            "100/100 [==============================] - 0s 2ms/step - loss: 1.0839 - acc: 0.5100 - val_loss: 1.0528 - val_acc: 0.6000\n",
            "Epoch 43/350\n",
            "100/100 [==============================] - 0s 2ms/step - loss: 1.0586 - acc: 0.5800 - val_loss: 1.0411 - val_acc: 0.5800\n",
            "Epoch 44/350\n",
            "100/100 [==============================] - 0s 2ms/step - loss: 1.0591 - acc: 0.5200 - val_loss: 1.0308 - val_acc: 0.5900\n",
            "Epoch 45/350\n",
            "100/100 [==============================] - 0s 2ms/step - loss: 1.0568 - acc: 0.5900 - val_loss: 1.0286 - val_acc: 0.5700\n",
            "Epoch 46/350\n",
            "100/100 [==============================] - 0s 2ms/step - loss: 1.0448 - acc: 0.5300 - val_loss: 1.0086 - val_acc: 0.5800\n",
            "Epoch 47/350\n",
            "100/100 [==============================] - 0s 2ms/step - loss: 1.0243 - acc: 0.5900 - val_loss: 0.9952 - val_acc: 0.5900\n",
            "Epoch 48/350\n",
            "100/100 [==============================] - 0s 2ms/step - loss: 1.0059 - acc: 0.5700 - val_loss: 0.9879 - val_acc: 0.6100\n",
            "Epoch 49/350\n",
            "100/100 [==============================] - 0s 2ms/step - loss: 1.0061 - acc: 0.5700 - val_loss: 0.9759 - val_acc: 0.6100\n",
            "Epoch 50/350\n",
            "100/100 [==============================] - 0s 2ms/step - loss: 0.9967 - acc: 0.5700 - val_loss: 0.9671 - val_acc: 0.6100\n",
            "Epoch 51/350\n",
            "100/100 [==============================] - 0s 2ms/step - loss: 0.9864 - acc: 0.5900 - val_loss: 0.9600 - val_acc: 0.6000\n",
            "Epoch 52/350\n",
            "100/100 [==============================] - 0s 2ms/step - loss: 0.9707 - acc: 0.5900 - val_loss: 0.9496 - val_acc: 0.6100\n",
            "Epoch 53/350\n",
            "100/100 [==============================] - 0s 2ms/step - loss: 0.9721 - acc: 0.5800 - val_loss: 0.9436 - val_acc: 0.6000\n",
            "Epoch 54/350\n",
            "100/100 [==============================] - 0s 2ms/step - loss: 0.9481 - acc: 0.6000 - val_loss: 0.9336 - val_acc: 0.6100\n",
            "Epoch 55/350\n",
            "100/100 [==============================] - 0s 2ms/step - loss: 0.9471 - acc: 0.6300 - val_loss: 0.9286 - val_acc: 0.6500\n",
            "Epoch 56/350\n",
            "100/100 [==============================] - 0s 2ms/step - loss: 0.9473 - acc: 0.5900 - val_loss: 0.9248 - val_acc: 0.6200\n",
            "Epoch 57/350\n",
            "100/100 [==============================] - 0s 2ms/step - loss: 0.9452 - acc: 0.6100 - val_loss: 0.9155 - val_acc: 0.6100\n",
            "Epoch 58/350\n",
            "100/100 [==============================] - 0s 2ms/step - loss: 0.9218 - acc: 0.6000 - val_loss: 0.9056 - val_acc: 0.6200\n",
            "Epoch 59/350\n",
            "100/100 [==============================] - 0s 2ms/step - loss: 0.9252 - acc: 0.6200 - val_loss: 0.8992 - val_acc: 0.6100\n",
            "Epoch 60/350\n",
            "100/100 [==============================] - 0s 2ms/step - loss: 0.9128 - acc: 0.6100 - val_loss: 0.8950 - val_acc: 0.6100\n",
            "Epoch 61/350\n",
            "100/100 [==============================] - 0s 2ms/step - loss: 0.9056 - acc: 0.6300 - val_loss: 0.8871 - val_acc: 0.6200\n",
            "Epoch 62/350\n",
            "100/100 [==============================] - 0s 2ms/step - loss: 0.9013 - acc: 0.5800 - val_loss: 0.8812 - val_acc: 0.6200\n",
            "Epoch 63/350\n",
            "100/100 [==============================] - 0s 2ms/step - loss: 0.8880 - acc: 0.6200 - val_loss: 0.8724 - val_acc: 0.6100\n",
            "Epoch 64/350\n",
            "100/100 [==============================] - 0s 2ms/step - loss: 0.8786 - acc: 0.6300 - val_loss: 0.8638 - val_acc: 0.6200\n",
            "Epoch 65/350\n",
            "100/100 [==============================] - 0s 2ms/step - loss: 0.8883 - acc: 0.5900 - val_loss: 0.8699 - val_acc: 0.6100\n",
            "Epoch 66/350\n",
            "100/100 [==============================] - 0s 2ms/step - loss: 0.8816 - acc: 0.5900 - val_loss: 0.8537 - val_acc: 0.6200\n",
            "Epoch 67/350\n",
            "100/100 [==============================] - 0s 2ms/step - loss: 0.8708 - acc: 0.6000 - val_loss: 0.8475 - val_acc: 0.6300\n",
            "Epoch 68/350\n",
            "100/100 [==============================] - 0s 2ms/step - loss: 0.8702 - acc: 0.6000 - val_loss: 0.8439 - val_acc: 0.6300\n",
            "Epoch 69/350\n",
            "100/100 [==============================] - 0s 2ms/step - loss: 0.8474 - acc: 0.6400 - val_loss: 0.8328 - val_acc: 0.6500\n",
            "Epoch 70/350\n",
            "100/100 [==============================] - 0s 2ms/step - loss: 0.8499 - acc: 0.6400 - val_loss: 0.8261 - val_acc: 0.6300\n",
            "Epoch 71/350\n",
            "100/100 [==============================] - 0s 2ms/step - loss: 0.8523 - acc: 0.6400 - val_loss: 0.8244 - val_acc: 0.6900\n",
            "Epoch 72/350\n",
            "100/100 [==============================] - 0s 2ms/step - loss: 0.8517 - acc: 0.6300 - val_loss: 0.8305 - val_acc: 0.6200\n",
            "Epoch 73/350\n",
            "100/100 [==============================] - 0s 2ms/step - loss: 0.8360 - acc: 0.6100 - val_loss: 0.8150 - val_acc: 0.6300\n",
            "Epoch 74/350\n",
            "100/100 [==============================] - 0s 2ms/step - loss: 0.8267 - acc: 0.6400 - val_loss: 0.8015 - val_acc: 0.6300\n",
            "Epoch 75/350\n",
            "100/100 [==============================] - 0s 2ms/step - loss: 0.8294 - acc: 0.6800 - val_loss: 0.7964 - val_acc: 0.6600\n",
            "Epoch 76/350\n",
            "100/100 [==============================] - 0s 2ms/step - loss: 0.8271 - acc: 0.5900 - val_loss: 0.7941 - val_acc: 0.6300\n",
            "Epoch 77/350\n",
            "100/100 [==============================] - 0s 2ms/step - loss: 0.8008 - acc: 0.6800 - val_loss: 0.7869 - val_acc: 0.6900\n",
            "Epoch 78/350\n",
            "100/100 [==============================] - 0s 2ms/step - loss: 0.8079 - acc: 0.6700 - val_loss: 0.7773 - val_acc: 0.6900\n",
            "Epoch 79/350\n",
            "100/100 [==============================] - 0s 2ms/step - loss: 0.7831 - acc: 0.6700 - val_loss: 0.7683 - val_acc: 0.6900\n",
            "Epoch 80/350\n",
            "100/100 [==============================] - 0s 2ms/step - loss: 0.7941 - acc: 0.6800 - val_loss: 0.7640 - val_acc: 0.6900\n",
            "Epoch 81/350\n",
            "100/100 [==============================] - 0s 2ms/step - loss: 0.7950 - acc: 0.6700 - val_loss: 0.7551 - val_acc: 0.7000\n",
            "Epoch 82/350\n",
            "100/100 [==============================] - 0s 2ms/step - loss: 0.7820 - acc: 0.6800 - val_loss: 0.7530 - val_acc: 0.6900\n",
            "Epoch 83/350\n",
            "100/100 [==============================] - 0s 2ms/step - loss: 0.7707 - acc: 0.6800 - val_loss: 0.7422 - val_acc: 0.7100\n",
            "Epoch 84/350\n",
            "100/100 [==============================] - 0s 2ms/step - loss: 0.7599 - acc: 0.6900 - val_loss: 0.7330 - val_acc: 0.7000\n",
            "Epoch 85/350\n",
            "100/100 [==============================] - 0s 2ms/step - loss: 0.7504 - acc: 0.6800 - val_loss: 0.7244 - val_acc: 0.7200\n",
            "Epoch 86/350\n",
            "100/100 [==============================] - 0s 2ms/step - loss: 0.7251 - acc: 0.7300 - val_loss: 0.7147 - val_acc: 0.7200\n",
            "Epoch 87/350\n",
            "100/100 [==============================] - 0s 2ms/step - loss: 0.7398 - acc: 0.6900 - val_loss: 0.7058 - val_acc: 0.7200\n",
            "Epoch 88/350\n",
            "100/100 [==============================] - 0s 2ms/step - loss: 0.7867 - acc: 0.6700 - val_loss: 0.7096 - val_acc: 0.7300\n",
            "Epoch 89/350\n",
            "100/100 [==============================] - 0s 2ms/step - loss: 0.7277 - acc: 0.6900 - val_loss: 0.6891 - val_acc: 0.7300\n",
            "Epoch 90/350\n",
            "100/100 [==============================] - 0s 2ms/step - loss: 0.7195 - acc: 0.7200 - val_loss: 0.6886 - val_acc: 0.7100\n",
            "Epoch 91/350\n",
            "100/100 [==============================] - 0s 2ms/step - loss: 0.7043 - acc: 0.7100 - val_loss: 0.6727 - val_acc: 0.7200\n",
            "Epoch 92/350\n",
            "100/100 [==============================] - 0s 2ms/step - loss: 0.6888 - acc: 0.7000 - val_loss: 0.6651 - val_acc: 0.7500\n",
            "Epoch 93/350\n",
            "100/100 [==============================] - 0s 2ms/step - loss: 0.6885 - acc: 0.7200 - val_loss: 0.6536 - val_acc: 0.7300\n",
            "Epoch 94/350\n",
            "100/100 [==============================] - 0s 2ms/step - loss: 0.6760 - acc: 0.7100 - val_loss: 0.6443 - val_acc: 0.7700\n",
            "Epoch 95/350\n",
            "100/100 [==============================] - 0s 2ms/step - loss: 0.6583 - acc: 0.7400 - val_loss: 0.6296 - val_acc: 0.7600\n",
            "Epoch 96/350\n",
            "100/100 [==============================] - 0s 2ms/step - loss: 0.6451 - acc: 0.7600 - val_loss: 0.6243 - val_acc: 0.7400\n",
            "Epoch 97/350\n",
            "100/100 [==============================] - 0s 2ms/step - loss: 0.6430 - acc: 0.7800 - val_loss: 0.6090 - val_acc: 0.7700\n",
            "Epoch 98/350\n",
            "100/100 [==============================] - 0s 2ms/step - loss: 0.6447 - acc: 0.7500 - val_loss: 0.5976 - val_acc: 0.7700\n",
            "Epoch 99/350\n",
            "100/100 [==============================] - 0s 2ms/step - loss: 0.6392 - acc: 0.7200 - val_loss: 0.5925 - val_acc: 0.7800\n",
            "Epoch 100/350\n",
            "100/100 [==============================] - 0s 2ms/step - loss: 0.6034 - acc: 0.7800 - val_loss: 0.5846 - val_acc: 0.7900\n",
            "Epoch 101/350\n",
            "100/100 [==============================] - 0s 2ms/step - loss: 0.6232 - acc: 0.7700 - val_loss: 0.5949 - val_acc: 0.7700\n",
            "Epoch 102/350\n",
            "100/100 [==============================] - 0s 2ms/step - loss: 0.5954 - acc: 0.7800 - val_loss: 0.5572 - val_acc: 0.7800\n",
            "Epoch 103/350\n",
            "100/100 [==============================] - 0s 2ms/step - loss: 0.5709 - acc: 0.8000 - val_loss: 0.5514 - val_acc: 0.7800\n",
            "Epoch 104/350\n",
            "100/100 [==============================] - 0s 2ms/step - loss: 0.5589 - acc: 0.7800 - val_loss: 0.5457 - val_acc: 0.8000\n",
            "Epoch 105/350\n",
            "100/100 [==============================] - 0s 2ms/step - loss: 0.5616 - acc: 0.7700 - val_loss: 0.5243 - val_acc: 0.8000\n",
            "Epoch 106/350\n",
            "100/100 [==============================] - 0s 2ms/step - loss: 0.5410 - acc: 0.7800 - val_loss: 0.5148 - val_acc: 0.8000\n",
            "Epoch 107/350\n",
            "100/100 [==============================] - 0s 2ms/step - loss: 0.5355 - acc: 0.8000 - val_loss: 0.5010 - val_acc: 0.8300\n",
            "Epoch 108/350\n",
            "100/100 [==============================] - 0s 2ms/step - loss: 0.5340 - acc: 0.8100 - val_loss: 0.4934 - val_acc: 0.8400\n",
            "Epoch 109/350\n",
            "100/100 [==============================] - 0s 2ms/step - loss: 0.5028 - acc: 0.8300 - val_loss: 0.4842 - val_acc: 0.8100\n",
            "Epoch 110/350\n",
            "100/100 [==============================] - 0s 2ms/step - loss: 0.5488 - acc: 0.7900 - val_loss: 0.5435 - val_acc: 0.7900\n",
            "Epoch 111/350\n",
            "100/100 [==============================] - 0s 2ms/step - loss: 0.5127 - acc: 0.8000 - val_loss: 0.4777 - val_acc: 0.8300\n",
            "Epoch 112/350\n",
            "100/100 [==============================] - 0s 2ms/step - loss: 0.4973 - acc: 0.8100 - val_loss: 0.4566 - val_acc: 0.8400\n",
            "Epoch 113/350\n",
            "100/100 [==============================] - 0s 2ms/step - loss: 0.4763 - acc: 0.8400 - val_loss: 0.4553 - val_acc: 0.8500\n",
            "Epoch 114/350\n",
            "100/100 [==============================] - 0s 2ms/step - loss: 0.4695 - acc: 0.8400 - val_loss: 0.4421 - val_acc: 0.8600\n",
            "Epoch 115/350\n",
            "100/100 [==============================] - 0s 2ms/step - loss: 0.4576 - acc: 0.8300 - val_loss: 0.4381 - val_acc: 0.8400\n",
            "Epoch 116/350\n",
            "100/100 [==============================] - 0s 2ms/step - loss: 0.4468 - acc: 0.8400 - val_loss: 0.4272 - val_acc: 0.8300\n",
            "Epoch 117/350\n",
            "100/100 [==============================] - 0s 2ms/step - loss: 0.4528 - acc: 0.8000 - val_loss: 0.4159 - val_acc: 0.8700\n",
            "Epoch 118/350\n",
            "100/100 [==============================] - 0s 2ms/step - loss: 0.4683 - acc: 0.7900 - val_loss: 0.4457 - val_acc: 0.8200\n",
            "Epoch 119/350\n",
            "100/100 [==============================] - 0s 2ms/step - loss: 0.4485 - acc: 0.8300 - val_loss: 0.4104 - val_acc: 0.8400\n",
            "Epoch 120/350\n",
            "100/100 [==============================] - 0s 2ms/step - loss: 0.4452 - acc: 0.8500 - val_loss: 0.4377 - val_acc: 0.8400\n",
            "Epoch 121/350\n",
            "100/100 [==============================] - 0s 2ms/step - loss: 0.4402 - acc: 0.8200 - val_loss: 0.4179 - val_acc: 0.8600\n",
            "Epoch 122/350\n",
            "100/100 [==============================] - 0s 2ms/step - loss: 0.4167 - acc: 0.8300 - val_loss: 0.3997 - val_acc: 0.8400\n",
            "Epoch 123/350\n",
            "100/100 [==============================] - 0s 2ms/step - loss: 0.4149 - acc: 0.8400 - val_loss: 0.3888 - val_acc: 0.8800\n",
            "Epoch 124/350\n",
            "100/100 [==============================] - 0s 2ms/step - loss: 0.4220 - acc: 0.8400 - val_loss: 0.3759 - val_acc: 0.8900\n",
            "Epoch 125/350\n",
            "100/100 [==============================] - 0s 2ms/step - loss: 0.4096 - acc: 0.8000 - val_loss: 0.3705 - val_acc: 0.8600\n",
            "Epoch 126/350\n",
            "100/100 [==============================] - 0s 2ms/step - loss: 0.4019 - acc: 0.8500 - val_loss: 0.3788 - val_acc: 0.8500\n",
            "Epoch 127/350\n",
            "100/100 [==============================] - 0s 2ms/step - loss: 0.3705 - acc: 0.8700 - val_loss: 0.3693 - val_acc: 0.8600\n",
            "Epoch 128/350\n",
            "100/100 [==============================] - 0s 2ms/step - loss: 0.3967 - acc: 0.8400 - val_loss: 0.3896 - val_acc: 0.8000\n",
            "Epoch 129/350\n",
            "100/100 [==============================] - 0s 2ms/step - loss: 0.3833 - acc: 0.8400 - val_loss: 0.3698 - val_acc: 0.8800\n",
            "Epoch 130/350\n",
            "100/100 [==============================] - 0s 2ms/step - loss: 0.3762 - acc: 0.8900 - val_loss: 0.3406 - val_acc: 0.9100\n",
            "Epoch 131/350\n",
            "100/100 [==============================] - 0s 2ms/step - loss: 0.3603 - acc: 0.8700 - val_loss: 0.3346 - val_acc: 0.9100\n",
            "Epoch 132/350\n",
            "100/100 [==============================] - 0s 2ms/step - loss: 0.3538 - acc: 0.8900 - val_loss: 0.3341 - val_acc: 0.9100\n",
            "Epoch 133/350\n",
            "100/100 [==============================] - 0s 2ms/step - loss: 0.3630 - acc: 0.8700 - val_loss: 0.3455 - val_acc: 0.8600\n",
            "Epoch 134/350\n",
            "100/100 [==============================] - 0s 2ms/step - loss: 0.3546 - acc: 0.8900 - val_loss: 0.3229 - val_acc: 0.9200\n",
            "Epoch 135/350\n",
            "100/100 [==============================] - 0s 2ms/step - loss: 0.3360 - acc: 0.9000 - val_loss: 0.3198 - val_acc: 0.9200\n",
            "Epoch 136/350\n",
            "100/100 [==============================] - 0s 2ms/step - loss: 0.3439 - acc: 0.8500 - val_loss: 0.3393 - val_acc: 0.8800\n",
            "Epoch 137/350\n",
            "100/100 [==============================] - 0s 2ms/step - loss: 0.3481 - acc: 0.8800 - val_loss: 0.3118 - val_acc: 0.9200\n",
            "Epoch 138/350\n",
            "100/100 [==============================] - 0s 2ms/step - loss: 0.3201 - acc: 0.9100 - val_loss: 0.3180 - val_acc: 0.9000\n",
            "Epoch 139/350\n",
            "100/100 [==============================] - 0s 2ms/step - loss: 0.3266 - acc: 0.9100 - val_loss: 0.3140 - val_acc: 0.9100\n",
            "Epoch 140/350\n",
            "100/100 [==============================] - 0s 2ms/step - loss: 0.3355 - acc: 0.8800 - val_loss: 0.3238 - val_acc: 0.8800\n",
            "Epoch 141/350\n",
            "100/100 [==============================] - 0s 2ms/step - loss: 0.3255 - acc: 0.9000 - val_loss: 0.3023 - val_acc: 0.9100\n",
            "Epoch 142/350\n",
            "100/100 [==============================] - 0s 2ms/step - loss: 0.3127 - acc: 0.8800 - val_loss: 0.2936 - val_acc: 0.9200\n",
            "Epoch 143/350\n",
            "100/100 [==============================] - 0s 2ms/step - loss: 0.3177 - acc: 0.9000 - val_loss: 0.3043 - val_acc: 0.9000\n",
            "Epoch 144/350\n",
            "100/100 [==============================] - 0s 2ms/step - loss: 0.3101 - acc: 0.9000 - val_loss: 0.2867 - val_acc: 0.9400\n",
            "Epoch 145/350\n",
            "100/100 [==============================] - 0s 2ms/step - loss: 0.2989 - acc: 0.9000 - val_loss: 0.3253 - val_acc: 0.8500\n",
            "Epoch 146/350\n",
            "100/100 [==============================] - 0s 2ms/step - loss: 0.3151 - acc: 0.9100 - val_loss: 0.3009 - val_acc: 0.9000\n",
            "Epoch 147/350\n",
            "100/100 [==============================] - 0s 2ms/step - loss: 0.2871 - acc: 0.9300 - val_loss: 0.2939 - val_acc: 0.9000\n",
            "Epoch 148/350\n",
            "100/100 [==============================] - 0s 2ms/step - loss: 0.3252 - acc: 0.8800 - val_loss: 0.3168 - val_acc: 0.8700\n",
            "Epoch 149/350\n",
            "100/100 [==============================] - 0s 2ms/step - loss: 0.3278 - acc: 0.8700 - val_loss: 0.2767 - val_acc: 0.9300\n",
            "Epoch 150/350\n",
            "100/100 [==============================] - 0s 2ms/step - loss: 0.2835 - acc: 0.9300 - val_loss: 0.2662 - val_acc: 0.9400\n",
            "Epoch 151/350\n",
            "100/100 [==============================] - 0s 2ms/step - loss: 0.2742 - acc: 0.9100 - val_loss: 0.2646 - val_acc: 0.9400\n",
            "Epoch 152/350\n",
            "100/100 [==============================] - 0s 2ms/step - loss: 0.2781 - acc: 0.9100 - val_loss: 0.2755 - val_acc: 0.9000\n",
            "Epoch 153/350\n",
            "100/100 [==============================] - 0s 2ms/step - loss: 0.2683 - acc: 0.9300 - val_loss: 0.2592 - val_acc: 0.9400\n",
            "Epoch 154/350\n",
            "100/100 [==============================] - 0s 2ms/step - loss: 0.2716 - acc: 0.9200 - val_loss: 0.2502 - val_acc: 0.9400\n",
            "Epoch 155/350\n",
            "100/100 [==============================] - 0s 2ms/step - loss: 0.2707 - acc: 0.9100 - val_loss: 0.2594 - val_acc: 0.9200\n",
            "Epoch 156/350\n",
            "100/100 [==============================] - 0s 2ms/step - loss: 0.2720 - acc: 0.9300 - val_loss: 0.2578 - val_acc: 0.9300\n",
            "Epoch 157/350\n",
            "100/100 [==============================] - 0s 2ms/step - loss: 0.2632 - acc: 0.9200 - val_loss: 0.2503 - val_acc: 0.9300\n",
            "Epoch 158/350\n",
            "100/100 [==============================] - 0s 2ms/step - loss: 0.2620 - acc: 0.9300 - val_loss: 0.2377 - val_acc: 0.9400\n",
            "Epoch 159/350\n",
            "100/100 [==============================] - 0s 2ms/step - loss: 0.2694 - acc: 0.9100 - val_loss: 0.2404 - val_acc: 0.9500\n",
            "Epoch 160/350\n",
            "100/100 [==============================] - 0s 2ms/step - loss: 0.2500 - acc: 0.9400 - val_loss: 0.2374 - val_acc: 0.9400\n",
            "Epoch 161/350\n",
            "100/100 [==============================] - 0s 2ms/step - loss: 0.2404 - acc: 0.9400 - val_loss: 0.2302 - val_acc: 0.9500\n",
            "Epoch 162/350\n",
            "100/100 [==============================] - 0s 2ms/step - loss: 0.2486 - acc: 0.9200 - val_loss: 0.2283 - val_acc: 0.9400\n",
            "Epoch 163/350\n",
            "100/100 [==============================] - 0s 2ms/step - loss: 0.2612 - acc: 0.9200 - val_loss: 0.2907 - val_acc: 0.8800\n",
            "Epoch 164/350\n",
            "100/100 [==============================] - 0s 2ms/step - loss: 0.2524 - acc: 0.9200 - val_loss: 0.2558 - val_acc: 0.9100\n",
            "Epoch 165/350\n",
            "100/100 [==============================] - 0s 2ms/step - loss: 0.2532 - acc: 0.9200 - val_loss: 0.2449 - val_acc: 0.9100\n",
            "Epoch 166/350\n",
            "100/100 [==============================] - 0s 2ms/step - loss: 0.2639 - acc: 0.9100 - val_loss: 0.2341 - val_acc: 0.9200\n",
            "Epoch 167/350\n",
            "100/100 [==============================] - 0s 2ms/step - loss: 0.2308 - acc: 0.9300 - val_loss: 0.2382 - val_acc: 0.9200\n",
            "Epoch 168/350\n",
            "100/100 [==============================] - 0s 2ms/step - loss: 0.2479 - acc: 0.9200 - val_loss: 0.2173 - val_acc: 0.9400\n",
            "Epoch 169/350\n",
            "100/100 [==============================] - 0s 2ms/step - loss: 0.2363 - acc: 0.9400 - val_loss: 0.2145 - val_acc: 0.9400\n",
            "Epoch 170/350\n",
            "100/100 [==============================] - 0s 2ms/step - loss: 0.2260 - acc: 0.9400 - val_loss: 0.2207 - val_acc: 0.9500\n",
            "Epoch 171/350\n",
            "100/100 [==============================] - 0s 2ms/step - loss: 0.2404 - acc: 0.9300 - val_loss: 0.2273 - val_acc: 0.9500\n",
            "Epoch 172/350\n",
            "100/100 [==============================] - 0s 2ms/step - loss: 0.2316 - acc: 0.9300 - val_loss: 0.2235 - val_acc: 0.9200\n",
            "Epoch 173/350\n",
            "100/100 [==============================] - 0s 2ms/step - loss: 0.2327 - acc: 0.9200 - val_loss: 0.2139 - val_acc: 0.9400\n",
            "Epoch 174/350\n",
            "100/100 [==============================] - 0s 2ms/step - loss: 0.2330 - acc: 0.9100 - val_loss: 0.2238 - val_acc: 0.9400\n",
            "Epoch 175/350\n",
            "100/100 [==============================] - 0s 2ms/step - loss: 0.2137 - acc: 0.9200 - val_loss: 0.2211 - val_acc: 0.9300\n",
            "Epoch 176/350\n",
            "100/100 [==============================] - 0s 2ms/step - loss: 0.2222 - acc: 0.9200 - val_loss: 0.2028 - val_acc: 0.9300\n",
            "Epoch 177/350\n",
            "100/100 [==============================] - 0s 2ms/step - loss: 0.2079 - acc: 0.9300 - val_loss: 0.1939 - val_acc: 0.9500\n",
            "Epoch 178/350\n",
            "100/100 [==============================] - 0s 2ms/step - loss: 0.2100 - acc: 0.9500 - val_loss: 0.1978 - val_acc: 0.9500\n",
            "Epoch 179/350\n",
            "100/100 [==============================] - 0s 2ms/step - loss: 0.2169 - acc: 0.9200 - val_loss: 0.1920 - val_acc: 0.9400\n",
            "Epoch 180/350\n",
            "100/100 [==============================] - 0s 2ms/step - loss: 0.2233 - acc: 0.9400 - val_loss: 0.1993 - val_acc: 0.9600\n",
            "Epoch 181/350\n",
            "100/100 [==============================] - 0s 2ms/step - loss: 0.2010 - acc: 0.9500 - val_loss: 0.1944 - val_acc: 0.9600\n",
            "Epoch 182/350\n",
            "100/100 [==============================] - 0s 2ms/step - loss: 0.1971 - acc: 0.9400 - val_loss: 0.1882 - val_acc: 0.9600\n",
            "Epoch 183/350\n",
            "100/100 [==============================] - 0s 2ms/step - loss: 0.2043 - acc: 0.9500 - val_loss: 0.1913 - val_acc: 0.9500\n",
            "Epoch 184/350\n",
            "100/100 [==============================] - 0s 2ms/step - loss: 0.2057 - acc: 0.9400 - val_loss: 0.2005 - val_acc: 0.9500\n",
            "Epoch 185/350\n",
            "100/100 [==============================] - 0s 2ms/step - loss: 0.1934 - acc: 0.9500 - val_loss: 0.1854 - val_acc: 0.9500\n",
            "Epoch 186/350\n",
            "100/100 [==============================] - 0s 2ms/step - loss: 0.1979 - acc: 0.9400 - val_loss: 0.1862 - val_acc: 0.9400\n",
            "Epoch 187/350\n",
            "100/100 [==============================] - 0s 2ms/step - loss: 0.2027 - acc: 0.9300 - val_loss: 0.1833 - val_acc: 0.9300\n",
            "Epoch 188/350\n",
            "100/100 [==============================] - 0s 2ms/step - loss: 0.2344 - acc: 0.8900 - val_loss: 0.1895 - val_acc: 0.9400\n",
            "Epoch 189/350\n",
            "100/100 [==============================] - 0s 2ms/step - loss: 0.2348 - acc: 0.9300 - val_loss: 0.1969 - val_acc: 0.9500\n",
            "Epoch 190/350\n",
            "100/100 [==============================] - 0s 2ms/step - loss: 0.1899 - acc: 0.9600 - val_loss: 0.1746 - val_acc: 0.9500\n",
            "Epoch 191/350\n",
            "100/100 [==============================] - 0s 2ms/step - loss: 0.1860 - acc: 0.9500 - val_loss: 0.2134 - val_acc: 0.9100\n",
            "Epoch 192/350\n",
            "100/100 [==============================] - 0s 2ms/step - loss: 0.1828 - acc: 0.9200 - val_loss: 0.1847 - val_acc: 0.9500\n",
            "Epoch 193/350\n",
            "100/100 [==============================] - 0s 2ms/step - loss: 0.1877 - acc: 0.9400 - val_loss: 0.1631 - val_acc: 0.9500\n",
            "Epoch 194/350\n",
            "100/100 [==============================] - 0s 2ms/step - loss: 0.1938 - acc: 0.9300 - val_loss: 0.1856 - val_acc: 0.9300\n",
            "Epoch 195/350\n",
            "100/100 [==============================] - 0s 2ms/step - loss: 0.1873 - acc: 0.9200 - val_loss: 0.1673 - val_acc: 0.9600\n",
            "Epoch 196/350\n",
            "100/100 [==============================] - 0s 2ms/step - loss: 0.1852 - acc: 0.9500 - val_loss: 0.1617 - val_acc: 0.9600\n",
            "Epoch 197/350\n",
            "100/100 [==============================] - 0s 2ms/step - loss: 0.1776 - acc: 0.9500 - val_loss: 0.1829 - val_acc: 0.9300\n",
            "Epoch 198/350\n",
            "100/100 [==============================] - 0s 2ms/step - loss: 0.1786 - acc: 0.9500 - val_loss: 0.1859 - val_acc: 0.9600\n",
            "Epoch 199/350\n",
            "100/100 [==============================] - 0s 2ms/step - loss: 0.1857 - acc: 0.9400 - val_loss: 0.1782 - val_acc: 0.9400\n",
            "Epoch 200/350\n",
            "100/100 [==============================] - 0s 2ms/step - loss: 0.1882 - acc: 0.9500 - val_loss: 0.1531 - val_acc: 0.9400\n",
            "Epoch 201/350\n",
            "100/100 [==============================] - 0s 2ms/step - loss: 0.1660 - acc: 0.9400 - val_loss: 0.1581 - val_acc: 0.9600\n",
            "Epoch 202/350\n",
            "100/100 [==============================] - 0s 2ms/step - loss: 0.1705 - acc: 0.9400 - val_loss: 0.1636 - val_acc: 0.9500\n",
            "Epoch 203/350\n",
            "100/100 [==============================] - 0s 2ms/step - loss: 0.1617 - acc: 0.9500 - val_loss: 0.1543 - val_acc: 0.9500\n",
            "Epoch 204/350\n",
            "100/100 [==============================] - 0s 2ms/step - loss: 0.1672 - acc: 0.9400 - val_loss: 0.1479 - val_acc: 0.9600\n",
            "Epoch 205/350\n",
            "100/100 [==============================] - 0s 2ms/step - loss: 0.1528 - acc: 0.9500 - val_loss: 0.1431 - val_acc: 0.9500\n",
            "Epoch 206/350\n",
            "100/100 [==============================] - 0s 2ms/step - loss: 0.1514 - acc: 0.9400 - val_loss: 0.1408 - val_acc: 0.9700\n",
            "Epoch 207/350\n",
            "100/100 [==============================] - 0s 2ms/step - loss: 0.1474 - acc: 0.9600 - val_loss: 0.1410 - val_acc: 0.9600\n",
            "Epoch 208/350\n",
            "100/100 [==============================] - 0s 2ms/step - loss: 0.1526 - acc: 0.9600 - val_loss: 0.1413 - val_acc: 0.9600\n",
            "Epoch 209/350\n",
            "100/100 [==============================] - 0s 2ms/step - loss: 0.1492 - acc: 0.9600 - val_loss: 0.1391 - val_acc: 0.9600\n",
            "Epoch 210/350\n",
            "100/100 [==============================] - 0s 2ms/step - loss: 0.1422 - acc: 0.9700 - val_loss: 0.1363 - val_acc: 0.9500\n",
            "Epoch 211/350\n",
            "100/100 [==============================] - 0s 2ms/step - loss: 0.1431 - acc: 0.9600 - val_loss: 0.1334 - val_acc: 0.9600\n",
            "Epoch 212/350\n",
            "100/100 [==============================] - 0s 2ms/step - loss: 0.1416 - acc: 0.9600 - val_loss: 0.1449 - val_acc: 0.9600\n",
            "Epoch 213/350\n",
            "100/100 [==============================] - 0s 2ms/step - loss: 0.1456 - acc: 0.9600 - val_loss: 0.1334 - val_acc: 0.9700\n",
            "Epoch 214/350\n",
            "100/100 [==============================] - 0s 2ms/step - loss: 0.1552 - acc: 0.9500 - val_loss: 0.1315 - val_acc: 0.9600\n",
            "Epoch 215/350\n",
            "100/100 [==============================] - 0s 2ms/step - loss: 0.1487 - acc: 0.9500 - val_loss: 0.1476 - val_acc: 0.9600\n",
            "Epoch 216/350\n",
            "100/100 [==============================] - 0s 2ms/step - loss: 0.1524 - acc: 0.9600 - val_loss: 0.1508 - val_acc: 0.9600\n",
            "Epoch 217/350\n",
            "100/100 [==============================] - 0s 2ms/step - loss: 0.1466 - acc: 0.9600 - val_loss: 0.1264 - val_acc: 0.9600\n",
            "Epoch 218/350\n",
            "100/100 [==============================] - 0s 2ms/step - loss: 0.1310 - acc: 0.9600 - val_loss: 0.1263 - val_acc: 0.9600\n",
            "Epoch 219/350\n",
            "100/100 [==============================] - 0s 2ms/step - loss: 0.1410 - acc: 0.9700 - val_loss: 0.1207 - val_acc: 0.9700\n",
            "Epoch 220/350\n",
            "100/100 [==============================] - 0s 2ms/step - loss: 0.1426 - acc: 0.9500 - val_loss: 0.1208 - val_acc: 0.9700\n",
            "Epoch 221/350\n",
            "100/100 [==============================] - 0s 2ms/step - loss: 0.1361 - acc: 0.9600 - val_loss: 0.1320 - val_acc: 0.9700\n",
            "Epoch 222/350\n",
            "100/100 [==============================] - 0s 2ms/step - loss: 0.1452 - acc: 0.9700 - val_loss: 0.1232 - val_acc: 0.9700\n",
            "Epoch 223/350\n",
            "100/100 [==============================] - 0s 2ms/step - loss: 0.1253 - acc: 0.9600 - val_loss: 0.1171 - val_acc: 0.9700\n",
            "Epoch 224/350\n",
            "100/100 [==============================] - 0s 2ms/step - loss: 0.1305 - acc: 0.9700 - val_loss: 0.1165 - val_acc: 0.9700\n",
            "Epoch 225/350\n",
            "100/100 [==============================] - 0s 2ms/step - loss: 0.1202 - acc: 0.9700 - val_loss: 0.1148 - val_acc: 0.9700\n",
            "Epoch 226/350\n",
            "100/100 [==============================] - 0s 2ms/step - loss: 0.1221 - acc: 0.9700 - val_loss: 0.1158 - val_acc: 0.9700\n",
            "Epoch 227/350\n",
            "100/100 [==============================] - 0s 2ms/step - loss: 0.1199 - acc: 0.9700 - val_loss: 0.1097 - val_acc: 0.9700\n",
            "Epoch 228/350\n",
            "100/100 [==============================] - 0s 2ms/step - loss: 0.1153 - acc: 0.9700 - val_loss: 0.1076 - val_acc: 0.9700\n",
            "Epoch 229/350\n",
            "100/100 [==============================] - 0s 2ms/step - loss: 0.1201 - acc: 0.9600 - val_loss: 0.1109 - val_acc: 0.9700\n",
            "Epoch 230/350\n",
            "100/100 [==============================] - 0s 2ms/step - loss: 0.1269 - acc: 0.9600 - val_loss: 0.1275 - val_acc: 0.9600\n",
            "Epoch 231/350\n",
            "100/100 [==============================] - 0s 2ms/step - loss: 0.1150 - acc: 0.9700 - val_loss: 0.1081 - val_acc: 0.9700\n",
            "Epoch 232/350\n",
            "100/100 [==============================] - 0s 2ms/step - loss: 0.1155 - acc: 0.9600 - val_loss: 0.1055 - val_acc: 0.9600\n",
            "Epoch 233/350\n",
            "100/100 [==============================] - 0s 2ms/step - loss: 0.1086 - acc: 0.9700 - val_loss: 0.1024 - val_acc: 0.9700\n",
            "Epoch 234/350\n",
            "100/100 [==============================] - 0s 2ms/step - loss: 0.1049 - acc: 0.9700 - val_loss: 0.1020 - val_acc: 0.9700\n",
            "Epoch 235/350\n",
            "100/100 [==============================] - 0s 2ms/step - loss: 0.1091 - acc: 0.9700 - val_loss: 0.0986 - val_acc: 0.9700\n",
            "Epoch 236/350\n",
            "100/100 [==============================] - 0s 2ms/step - loss: 0.1036 - acc: 0.9700 - val_loss: 0.0972 - val_acc: 0.9700\n",
            "Epoch 237/350\n",
            "100/100 [==============================] - 0s 2ms/step - loss: 0.1058 - acc: 0.9700 - val_loss: 0.0991 - val_acc: 0.9700\n",
            "Epoch 238/350\n",
            "100/100 [==============================] - 0s 2ms/step - loss: 0.1055 - acc: 0.9700 - val_loss: 0.1064 - val_acc: 0.9700\n",
            "Epoch 239/350\n",
            "100/100 [==============================] - 0s 2ms/step - loss: 0.1166 - acc: 0.9600 - val_loss: 0.1341 - val_acc: 0.9600\n",
            "Epoch 240/350\n",
            "100/100 [==============================] - 0s 2ms/step - loss: 0.1580 - acc: 0.9300 - val_loss: 0.1267 - val_acc: 0.9600\n",
            "Epoch 241/350\n",
            "100/100 [==============================] - 0s 2ms/step - loss: 0.1455 - acc: 0.9500 - val_loss: 0.1193 - val_acc: 0.9600\n",
            "Epoch 242/350\n",
            "100/100 [==============================] - 0s 2ms/step - loss: 0.1410 - acc: 0.9500 - val_loss: 0.1235 - val_acc: 0.9400\n",
            "Epoch 243/350\n",
            "100/100 [==============================] - 0s 2ms/step - loss: 0.1191 - acc: 0.9600 - val_loss: 0.1009 - val_acc: 0.9700\n",
            "Epoch 244/350\n",
            "100/100 [==============================] - 0s 2ms/step - loss: 0.1040 - acc: 0.9700 - val_loss: 0.0962 - val_acc: 0.9800\n",
            "Epoch 245/350\n",
            "100/100 [==============================] - 0s 2ms/step - loss: 0.0990 - acc: 0.9700 - val_loss: 0.0907 - val_acc: 0.9700\n",
            "Epoch 246/350\n",
            "100/100 [==============================] - 0s 2ms/step - loss: 0.0990 - acc: 0.9700 - val_loss: 0.0885 - val_acc: 0.9700\n",
            "Epoch 247/350\n",
            "100/100 [==============================] - 0s 2ms/step - loss: 0.0950 - acc: 0.9700 - val_loss: 0.0930 - val_acc: 0.9800\n",
            "Epoch 248/350\n",
            "100/100 [==============================] - 0s 2ms/step - loss: 0.1009 - acc: 0.9700 - val_loss: 0.0880 - val_acc: 0.9700\n",
            "Epoch 249/350\n",
            "100/100 [==============================] - 0s 2ms/step - loss: 0.1039 - acc: 0.9700 - val_loss: 0.0885 - val_acc: 0.9700\n",
            "Epoch 250/350\n",
            "100/100 [==============================] - 0s 2ms/step - loss: 0.0900 - acc: 0.9700 - val_loss: 0.0832 - val_acc: 0.9700\n",
            "Epoch 251/350\n",
            "100/100 [==============================] - 0s 2ms/step - loss: 0.1033 - acc: 0.9700 - val_loss: 0.1036 - val_acc: 0.9600\n",
            "Epoch 252/350\n",
            "100/100 [==============================] - 0s 2ms/step - loss: 0.0903 - acc: 0.9700 - val_loss: 0.0794 - val_acc: 0.9700\n",
            "Epoch 253/350\n",
            "100/100 [==============================] - 0s 2ms/step - loss: 0.0867 - acc: 0.9800 - val_loss: 0.0802 - val_acc: 0.9700\n",
            "Epoch 254/350\n",
            "100/100 [==============================] - 0s 2ms/step - loss: 0.0838 - acc: 0.9700 - val_loss: 0.0761 - val_acc: 0.9800\n",
            "Epoch 255/350\n",
            "100/100 [==============================] - 0s 2ms/step - loss: 0.0814 - acc: 0.9800 - val_loss: 0.0763 - val_acc: 0.9800\n",
            "Epoch 256/350\n",
            "100/100 [==============================] - 0s 2ms/step - loss: 0.0857 - acc: 0.9700 - val_loss: 0.0747 - val_acc: 0.9800\n",
            "Epoch 257/350\n",
            "100/100 [==============================] - 0s 2ms/step - loss: 0.0822 - acc: 0.9800 - val_loss: 0.0728 - val_acc: 0.9800\n",
            "Epoch 258/350\n",
            "100/100 [==============================] - 0s 2ms/step - loss: 0.0776 - acc: 0.9800 - val_loss: 0.0726 - val_acc: 0.9800\n",
            "Epoch 259/350\n",
            "100/100 [==============================] - 0s 2ms/step - loss: 0.0758 - acc: 0.9800 - val_loss: 0.0777 - val_acc: 0.9800\n",
            "Epoch 260/350\n",
            "100/100 [==============================] - 0s 2ms/step - loss: 0.0804 - acc: 0.9700 - val_loss: 0.0699 - val_acc: 0.9900\n",
            "Epoch 261/350\n",
            "100/100 [==============================] - 0s 2ms/step - loss: 0.0804 - acc: 0.9900 - val_loss: 0.0696 - val_acc: 0.9800\n",
            "Epoch 262/350\n",
            "100/100 [==============================] - 0s 2ms/step - loss: 0.0873 - acc: 0.9700 - val_loss: 0.0906 - val_acc: 0.9800\n",
            "Epoch 263/350\n",
            "100/100 [==============================] - 0s 2ms/step - loss: 0.0878 - acc: 0.9900 - val_loss: 0.0735 - val_acc: 0.9800\n",
            "Epoch 264/350\n",
            "100/100 [==============================] - 0s 2ms/step - loss: 0.0775 - acc: 0.9800 - val_loss: 0.0679 - val_acc: 0.9900\n",
            "Epoch 265/350\n",
            "100/100 [==============================] - 0s 2ms/step - loss: 0.0773 - acc: 0.9600 - val_loss: 0.0734 - val_acc: 0.9900\n",
            "Epoch 266/350\n",
            "100/100 [==============================] - 0s 2ms/step - loss: 0.0762 - acc: 0.9900 - val_loss: 0.0676 - val_acc: 0.9900\n",
            "Epoch 267/350\n",
            "100/100 [==============================] - 0s 2ms/step - loss: 0.0772 - acc: 0.9800 - val_loss: 0.0620 - val_acc: 0.9900\n",
            "Epoch 268/350\n",
            "100/100 [==============================] - 0s 2ms/step - loss: 0.0696 - acc: 0.9800 - val_loss: 0.0601 - val_acc: 0.9800\n",
            "Epoch 269/350\n",
            "100/100 [==============================] - 0s 2ms/step - loss: 0.0653 - acc: 0.9900 - val_loss: 0.0600 - val_acc: 0.9900\n",
            "Epoch 270/350\n",
            "100/100 [==============================] - 0s 2ms/step - loss: 0.0641 - acc: 0.9800 - val_loss: 0.0578 - val_acc: 0.9900\n",
            "Epoch 271/350\n",
            "100/100 [==============================] - 0s 2ms/step - loss: 0.0662 - acc: 0.9800 - val_loss: 0.0566 - val_acc: 0.9900\n",
            "Epoch 272/350\n",
            "100/100 [==============================] - 0s 2ms/step - loss: 0.0604 - acc: 0.9800 - val_loss: 0.0557 - val_acc: 0.9900\n",
            "Epoch 273/350\n",
            "100/100 [==============================] - 0s 2ms/step - loss: 0.0640 - acc: 0.9800 - val_loss: 0.0606 - val_acc: 0.9900\n",
            "Epoch 274/350\n",
            "100/100 [==============================] - 0s 2ms/step - loss: 0.0648 - acc: 0.9900 - val_loss: 0.0531 - val_acc: 0.9900\n",
            "Epoch 275/350\n",
            "100/100 [==============================] - 0s 2ms/step - loss: 0.0639 - acc: 0.9900 - val_loss: 0.0603 - val_acc: 0.9900\n",
            "Epoch 276/350\n",
            "100/100 [==============================] - 0s 2ms/step - loss: 0.0586 - acc: 0.9900 - val_loss: 0.0508 - val_acc: 0.9900\n",
            "Epoch 277/350\n",
            "100/100 [==============================] - 0s 2ms/step - loss: 0.0552 - acc: 0.9900 - val_loss: 0.0573 - val_acc: 0.9900\n",
            "Epoch 278/350\n",
            "100/100 [==============================] - 0s 2ms/step - loss: 0.0654 - acc: 0.9900 - val_loss: 0.0528 - val_acc: 0.9900\n",
            "Epoch 279/350\n",
            "100/100 [==============================] - 0s 2ms/step - loss: 0.0607 - acc: 0.9900 - val_loss: 0.0537 - val_acc: 1.0000\n",
            "Epoch 280/350\n",
            "100/100 [==============================] - 0s 2ms/step - loss: 0.0557 - acc: 1.0000 - val_loss: 0.0482 - val_acc: 1.0000\n",
            "Epoch 281/350\n",
            "100/100 [==============================] - 0s 2ms/step - loss: 0.0518 - acc: 1.0000 - val_loss: 0.0483 - val_acc: 1.0000\n",
            "Epoch 282/350\n",
            "100/100 [==============================] - 0s 2ms/step - loss: 0.0523 - acc: 0.9900 - val_loss: 0.0460 - val_acc: 1.0000\n",
            "Epoch 283/350\n",
            "100/100 [==============================] - 0s 2ms/step - loss: 0.0525 - acc: 0.9900 - val_loss: 0.0470 - val_acc: 1.0000\n",
            "Epoch 284/350\n",
            "100/100 [==============================] - 0s 2ms/step - loss: 0.0504 - acc: 1.0000 - val_loss: 0.0492 - val_acc: 1.0000\n",
            "Epoch 285/350\n",
            "100/100 [==============================] - 0s 2ms/step - loss: 0.0501 - acc: 1.0000 - val_loss: 0.0586 - val_acc: 1.0000\n",
            "Epoch 286/350\n",
            "100/100 [==============================] - 0s 2ms/step - loss: 0.0576 - acc: 1.0000 - val_loss: 0.0441 - val_acc: 1.0000\n",
            "Epoch 287/350\n",
            "100/100 [==============================] - 0s 2ms/step - loss: 0.0586 - acc: 0.9900 - val_loss: 0.0530 - val_acc: 1.0000\n",
            "Epoch 288/350\n",
            "100/100 [==============================] - 0s 2ms/step - loss: 0.0450 - acc: 1.0000 - val_loss: 0.0389 - val_acc: 1.0000\n",
            "Epoch 289/350\n",
            "100/100 [==============================] - 0s 2ms/step - loss: 0.0431 - acc: 1.0000 - val_loss: 0.0408 - val_acc: 1.0000\n",
            "Epoch 290/350\n",
            "100/100 [==============================] - 0s 2ms/step - loss: 0.0466 - acc: 1.0000 - val_loss: 0.0398 - val_acc: 1.0000\n",
            "Epoch 291/350\n",
            "100/100 [==============================] - 0s 2ms/step - loss: 0.0394 - acc: 1.0000 - val_loss: 0.0360 - val_acc: 1.0000\n",
            "Epoch 292/350\n",
            "100/100 [==============================] - 0s 2ms/step - loss: 0.0398 - acc: 1.0000 - val_loss: 0.0353 - val_acc: 1.0000\n",
            "Epoch 293/350\n",
            "100/100 [==============================] - 0s 2ms/step - loss: 0.0377 - acc: 1.0000 - val_loss: 0.0374 - val_acc: 1.0000\n",
            "Epoch 294/350\n",
            "100/100 [==============================] - 0s 2ms/step - loss: 0.0379 - acc: 1.0000 - val_loss: 0.0352 - val_acc: 1.0000\n",
            "Epoch 295/350\n",
            "100/100 [==============================] - 0s 2ms/step - loss: 0.0387 - acc: 1.0000 - val_loss: 0.0323 - val_acc: 1.0000\n",
            "Epoch 296/350\n",
            "100/100 [==============================] - 0s 2ms/step - loss: 0.0348 - acc: 1.0000 - val_loss: 0.0328 - val_acc: 1.0000\n",
            "Epoch 297/350\n",
            "100/100 [==============================] - 0s 2ms/step - loss: 0.0393 - acc: 1.0000 - val_loss: 0.0356 - val_acc: 1.0000\n",
            "Epoch 298/350\n",
            "100/100 [==============================] - 0s 2ms/step - loss: 0.0410 - acc: 1.0000 - val_loss: 0.0358 - val_acc: 1.0000\n",
            "Epoch 299/350\n",
            "100/100 [==============================] - 0s 2ms/step - loss: 0.0377 - acc: 1.0000 - val_loss: 0.0330 - val_acc: 1.0000\n",
            "Epoch 300/350\n",
            "100/100 [==============================] - 0s 2ms/step - loss: 0.0352 - acc: 1.0000 - val_loss: 0.0297 - val_acc: 1.0000\n",
            "Epoch 301/350\n",
            "100/100 [==============================] - 0s 2ms/step - loss: 0.0316 - acc: 1.0000 - val_loss: 0.0288 - val_acc: 1.0000\n",
            "Epoch 302/350\n",
            "100/100 [==============================] - 0s 2ms/step - loss: 0.0322 - acc: 1.0000 - val_loss: 0.0294 - val_acc: 1.0000\n",
            "Epoch 303/350\n",
            "100/100 [==============================] - 0s 2ms/step - loss: 0.0300 - acc: 1.0000 - val_loss: 0.0272 - val_acc: 1.0000\n",
            "Epoch 304/350\n",
            "100/100 [==============================] - 0s 2ms/step - loss: 0.0285 - acc: 1.0000 - val_loss: 0.0263 - val_acc: 1.0000\n",
            "Epoch 305/350\n",
            "100/100 [==============================] - 0s 2ms/step - loss: 0.0272 - acc: 1.0000 - val_loss: 0.0254 - val_acc: 1.0000\n",
            "Epoch 306/350\n",
            "100/100 [==============================] - 0s 2ms/step - loss: 0.0270 - acc: 1.0000 - val_loss: 0.0245 - val_acc: 1.0000\n",
            "Epoch 307/350\n",
            "100/100 [==============================] - 0s 2ms/step - loss: 0.0262 - acc: 1.0000 - val_loss: 0.0245 - val_acc: 1.0000\n",
            "Epoch 308/350\n",
            "100/100 [==============================] - 0s 2ms/step - loss: 0.0289 - acc: 1.0000 - val_loss: 0.0239 - val_acc: 1.0000\n",
            "Epoch 309/350\n",
            "100/100 [==============================] - 0s 2ms/step - loss: 0.0263 - acc: 1.0000 - val_loss: 0.0236 - val_acc: 1.0000\n",
            "Epoch 310/350\n",
            "100/100 [==============================] - 0s 2ms/step - loss: 0.0239 - acc: 1.0000 - val_loss: 0.0223 - val_acc: 1.0000\n",
            "Epoch 311/350\n",
            "100/100 [==============================] - 0s 2ms/step - loss: 0.0248 - acc: 1.0000 - val_loss: 0.0220 - val_acc: 1.0000\n",
            "Epoch 312/350\n",
            "100/100 [==============================] - 0s 2ms/step - loss: 0.0232 - acc: 1.0000 - val_loss: 0.0215 - val_acc: 1.0000\n",
            "Epoch 313/350\n",
            "100/100 [==============================] - 0s 2ms/step - loss: 0.0231 - acc: 1.0000 - val_loss: 0.0209 - val_acc: 1.0000\n",
            "Epoch 314/350\n",
            "100/100 [==============================] - 0s 2ms/step - loss: 0.0224 - acc: 1.0000 - val_loss: 0.0206 - val_acc: 1.0000\n",
            "Epoch 315/350\n",
            "100/100 [==============================] - 0s 2ms/step - loss: 0.0215 - acc: 1.0000 - val_loss: 0.0198 - val_acc: 1.0000\n",
            "Epoch 316/350\n",
            "100/100 [==============================] - 0s 2ms/step - loss: 0.0211 - acc: 1.0000 - val_loss: 0.0194 - val_acc: 1.0000\n",
            "Epoch 317/350\n",
            "100/100 [==============================] - 0s 2ms/step - loss: 0.0213 - acc: 1.0000 - val_loss: 0.0195 - val_acc: 1.0000\n",
            "Epoch 318/350\n",
            "100/100 [==============================] - 0s 2ms/step - loss: 0.0207 - acc: 1.0000 - val_loss: 0.0191 - val_acc: 1.0000\n",
            "Epoch 319/350\n",
            "100/100 [==============================] - 0s 2ms/step - loss: 0.0219 - acc: 1.0000 - val_loss: 0.0183 - val_acc: 1.0000\n",
            "Epoch 320/350\n",
            "100/100 [==============================] - 0s 2ms/step - loss: 0.0203 - acc: 1.0000 - val_loss: 0.0181 - val_acc: 1.0000\n",
            "Epoch 321/350\n",
            "100/100 [==============================] - 0s 2ms/step - loss: 0.0189 - acc: 1.0000 - val_loss: 0.0178 - val_acc: 1.0000\n",
            "Epoch 322/350\n",
            "100/100 [==============================] - 0s 2ms/step - loss: 0.0205 - acc: 1.0000 - val_loss: 0.0177 - val_acc: 1.0000\n",
            "Epoch 323/350\n",
            "100/100 [==============================] - 0s 2ms/step - loss: 0.0186 - acc: 1.0000 - val_loss: 0.0181 - val_acc: 1.0000\n",
            "Epoch 324/350\n",
            "100/100 [==============================] - 0s 2ms/step - loss: 0.0187 - acc: 1.0000 - val_loss: 0.0183 - val_acc: 1.0000\n",
            "Epoch 325/350\n",
            "100/100 [==============================] - 0s 2ms/step - loss: 0.0192 - acc: 1.0000 - val_loss: 0.0159 - val_acc: 1.0000\n",
            "Epoch 326/350\n",
            "100/100 [==============================] - 0s 2ms/step - loss: 0.0187 - acc: 1.0000 - val_loss: 0.0157 - val_acc: 1.0000\n",
            "Epoch 327/350\n",
            "100/100 [==============================] - 0s 2ms/step - loss: 0.0188 - acc: 1.0000 - val_loss: 0.0163 - val_acc: 1.0000\n",
            "Epoch 328/350\n",
            "100/100 [==============================] - 0s 2ms/step - loss: 0.0188 - acc: 1.0000 - val_loss: 0.0170 - val_acc: 1.0000\n",
            "Epoch 329/350\n",
            "100/100 [==============================] - 0s 2ms/step - loss: 0.0163 - acc: 1.0000 - val_loss: 0.0156 - val_acc: 1.0000\n",
            "Epoch 330/350\n",
            "100/100 [==============================] - 0s 2ms/step - loss: 0.0163 - acc: 1.0000 - val_loss: 0.0146 - val_acc: 1.0000\n",
            "Epoch 331/350\n",
            "100/100 [==============================] - 0s 2ms/step - loss: 0.0156 - acc: 1.0000 - val_loss: 0.0144 - val_acc: 1.0000\n",
            "Epoch 332/350\n",
            "100/100 [==============================] - 0s 2ms/step - loss: 0.0153 - acc: 1.0000 - val_loss: 0.0143 - val_acc: 1.0000\n",
            "Epoch 333/350\n",
            "100/100 [==============================] - 0s 2ms/step - loss: 0.0158 - acc: 1.0000 - val_loss: 0.0138 - val_acc: 1.0000\n",
            "Epoch 334/350\n",
            "100/100 [==============================] - 0s 2ms/step - loss: 0.0142 - acc: 1.0000 - val_loss: 0.0137 - val_acc: 1.0000\n",
            "Epoch 335/350\n",
            "100/100 [==============================] - 0s 2ms/step - loss: 0.0142 - acc: 1.0000 - val_loss: 0.0131 - val_acc: 1.0000\n",
            "Epoch 336/350\n",
            "100/100 [==============================] - 0s 2ms/step - loss: 0.0155 - acc: 1.0000 - val_loss: 0.0140 - val_acc: 1.0000\n",
            "Epoch 337/350\n",
            "100/100 [==============================] - 0s 2ms/step - loss: 0.0153 - acc: 1.0000 - val_loss: 0.0126 - val_acc: 1.0000\n",
            "Epoch 338/350\n",
            "100/100 [==============================] - 0s 2ms/step - loss: 0.0133 - acc: 1.0000 - val_loss: 0.0124 - val_acc: 1.0000\n",
            "Epoch 339/350\n",
            "100/100 [==============================] - 0s 2ms/step - loss: 0.0137 - acc: 1.0000 - val_loss: 0.0125 - val_acc: 1.0000\n",
            "Epoch 340/350\n",
            "100/100 [==============================] - 0s 2ms/step - loss: 0.0135 - acc: 1.0000 - val_loss: 0.0119 - val_acc: 1.0000\n",
            "Epoch 341/350\n",
            "100/100 [==============================] - 0s 2ms/step - loss: 0.0127 - acc: 1.0000 - val_loss: 0.0138 - val_acc: 1.0000\n",
            "Epoch 342/350\n",
            "100/100 [==============================] - 0s 2ms/step - loss: 0.0141 - acc: 1.0000 - val_loss: 0.0113 - val_acc: 1.0000\n",
            "Epoch 343/350\n",
            "100/100 [==============================] - 0s 2ms/step - loss: 0.0123 - acc: 1.0000 - val_loss: 0.0111 - val_acc: 1.0000\n",
            "Epoch 344/350\n",
            "100/100 [==============================] - 0s 2ms/step - loss: 0.0116 - acc: 1.0000 - val_loss: 0.0110 - val_acc: 1.0000\n",
            "Epoch 345/350\n",
            "100/100 [==============================] - 0s 2ms/step - loss: 0.0116 - acc: 1.0000 - val_loss: 0.0107 - val_acc: 1.0000\n",
            "Epoch 346/350\n",
            "100/100 [==============================] - 0s 2ms/step - loss: 0.0116 - acc: 1.0000 - val_loss: 0.0108 - val_acc: 1.0000\n",
            "Epoch 347/350\n",
            "100/100 [==============================] - 0s 2ms/step - loss: 0.0109 - acc: 1.0000 - val_loss: 0.0104 - val_acc: 1.0000\n",
            "Epoch 348/350\n",
            "100/100 [==============================] - 0s 2ms/step - loss: 0.0108 - acc: 1.0000 - val_loss: 0.0102 - val_acc: 1.0000\n",
            "Epoch 349/350\n",
            "100/100 [==============================] - 0s 2ms/step - loss: 0.0107 - acc: 1.0000 - val_loss: 0.0100 - val_acc: 1.0000\n",
            "Epoch 350/350\n",
            "100/100 [==============================] - 0s 2ms/step - loss: 0.0102 - acc: 1.0000 - val_loss: 0.0097 - val_acc: 1.0000\n"
          ],
          "name": "stdout"
        }
      ]
    },
    {
      "cell_type": "code",
      "metadata": {
        "id": "huMTXF0qLoi3",
        "colab_type": "code",
        "colab": {}
      },
      "source": [
        ""
      ],
      "execution_count": 0,
      "outputs": []
    },
    {
      "cell_type": "code",
      "metadata": {
        "id": "0yy_2ijaFh9W",
        "colab_type": "code",
        "outputId": "5fbbfe34-78a9-410c-a4c9-362dbfcb5c8b",
        "colab": {
          "base_uri": "https://localhost:8080/",
          "height": 295
        }
      },
      "source": [
        "#Accracy \n",
        "plt.plot(history.history['acc'],linewidth = 3)\n",
        "plt.title('Training Accuracy')\n",
        "plt.ylabel('Accuracy')\n",
        "plt.xlabel('Number of Epoch')\n",
        "plt.show()"
      ],
      "execution_count": 0,
      "outputs": [
        {
          "output_type": "display_data",
          "data": {
            "image/png": "[encoded data removed]",
            "text/plain": [
              "<Figure size 432x288 with 1 Axes>"
            ]
          },
          "metadata": {
            "tags": []
          }
        }
      ]
    },
    {
      "cell_type": "code",
      "metadata": {
        "id": "UDwU9vtWXnAM",
        "colab_type": "code",
        "outputId": "07b751c9-eec9-4646-9e99-85a733c07c3d",
        "colab": {
          "base_uri": "https://localhost:8080/",
          "height": 295
        }
      },
      "source": [
        "plt.plot(history.history['val_acc'],linewidth = 3)\n",
        "plt.title('Test  Accuracy')\n",
        "plt.ylabel('Accuracy')\n",
        "plt.xlabel('Number of Epoch')\n",
        "plt.show()"
      ],
      "execution_count": 0,
      "outputs": [
        {
          "output_type": "display_data",
          "data": {
            "image/png": "[encoded data removed]",
            "text/plain": [
              "<Figure size 432x288 with 1 Axes>"
            ]
          },
          "metadata": {
            "tags": []
          }
        }
      ]
    },
    {
      "cell_type": "code",
      "metadata": {
        "id": "taPqWVeeJQCY",
        "colab_type": "code",
        "outputId": "12f3378b-aeb2-49c3-9a56-9b75c9d8709d",
        "colab": {
          "base_uri": "https://localhost:8080/",
          "height": 295
        }
      },
      "source": [
        "#Plot_loss\n",
        "plt.plot(history.history['loss'],linewidth = 3)\n",
        "plt.title('Training  loss')\n",
        "plt.ylabel('Loss')\n",
        "plt.xlabel('Number of Epoch')\n",
        "plt.show()"
      ],
      "execution_count": 0,
      "outputs": [
        {
          "output_type": "display_data",
          "data": {
            "image/png": "[encoded data removed]",
            "text/plain": [
              "<Figure size 432x288 with 1 Axes>"
            ]
          },
          "metadata": {
            "tags": []
          }
        }
      ]
    },
    {
      "cell_type": "code",
      "metadata": {
        "id": "7XdblQFqLJcy",
        "colab_type": "code",
        "outputId": "7fbbb3e7-fbbd-45a1-a76a-9c9c97fb23b3",
        "colab": {
          "base_uri": "https://localhost:8080/",
          "height": 295
        }
      },
      "source": [
        "plt.plot(history.history['val_loss'],linewidth = 3)\n",
        "plt.title('Test  loss')\n",
        "plt.ylabel('Loss')\n",
        "plt.xlabel('Number of Epoch')\n",
        "plt.show()"
      ],
      "execution_count": 0,
      "outputs": [
        {
          "output_type": "display_data",
          "data": {
            "image/png": "[encoded data removed]",
            "text/plain": [
              "<Figure size 432x288 with 1 Axes>"
            ]
          },
          "metadata": {
            "tags": []
          }
        }
      ]
    },
    {
      "cell_type": "code",
      "metadata": {
        "id": "uPd7GujmZspf",
        "colab_type": "code",
        "colab": {}
      },
      "source": [
        "\n",
        "y_test_pred = model.predict_classes(x_test)"
      ],
      "execution_count": 0,
      "outputs": []
    },
    {
      "cell_type": "code",
      "metadata": {
        "id": "u3hYDpFBrKhj",
        "colab_type": "code",
        "colab": {}
      },
      "source": [
        "y_train_pred = model.predict_classes(x_train)"
      ],
      "execution_count": 0,
      "outputs": []
    },
    {
      "cell_type": "code",
      "metadata": {
        "id": "ktmpHGbBPpio",
        "colab_type": "code",
        "colab": {}
      },
      "source": [
        "from sklearn.metrics import accuracy_score,confusion_matrix,accuracy_score,classification_report,average_precision_score,recall_score,f1_score\n",
        "\n",
        "\n"
      ],
      "execution_count": 0,
      "outputs": []
    },
    {
      "cell_type": "code",
      "metadata": {
        "id": "IWfh9NlRTijL",
        "colab_type": "code",
        "outputId": "8f1df5e4-88ef-438d-e531-01dce62c6317",
        "colab": {
          "base_uri": "https://localhost:8080/",
          "height": 221
        }
      },
      "source": [
        "print(classification_report(Y_TS,y_test_pred))\n"
      ],
      "execution_count": 0,
      "outputs": [
        {
          "output_type": "stream",
          "text": [
            "              precision    recall  f1-score   support\n",
            "\n",
            "           0       1.00      1.00      1.00        20\n",
            "           1       1.00      1.00      1.00        20\n",
            "           2       1.00      1.00      1.00        20\n",
            "           3       1.00      1.00      1.00        20\n",
            "           4       1.00      1.00      1.00        20\n",
            "\n",
            "    accuracy                           1.00       100\n",
            "   macro avg       1.00      1.00      1.00       100\n",
            "weighted avg       1.00      1.00      1.00       100\n",
            "\n"
          ],
          "name": "stdout"
        }
      ]
    },
    {
      "cell_type": "code",
      "metadata": {
        "id": "Dq-lXyIDQuFb",
        "colab_type": "code",
        "outputId": "9a467dd3-7447-43ca-f967-22ec7619cc27",
        "colab": {
          "base_uri": "https://localhost:8080/",
          "height": 34
        }
      },
      "source": [
        "print(\"accuracy_score : {}\".format(accuracy_score(Y_TS,y_test_pred)))\n",
        "\n",
        "\n",
        "\n"
      ],
      "execution_count": 0,
      "outputs": [
        {
          "output_type": "stream",
          "text": [
            "accuracy_score : 1.0\n"
          ],
          "name": "stdout"
        }
      ]
    },
    {
      "cell_type": "code",
      "metadata": {
        "id": "-7kEuw0IUF_l",
        "colab_type": "code",
        "outputId": "de74e5a8-6250-4e8d-f133-625fb7f65525",
        "colab": {
          "base_uri": "https://localhost:8080/",
          "height": 102
        }
      },
      "source": [
        "cm = confusion_matrix(Y_TS,y_test_pred)\n"
      ],
      "execution_count": 0,
      "outputs": [
        {
          "output_type": "stream",
          "text": [
            "[[20  0  0  0  0]\n",
            " [ 0 20  0  0  0]\n",
            " [ 0  0 20  0  0]\n",
            " [ 0  0  0 20  0]\n",
            " [ 0  0  0  0 20]]\n"
          ],
          "name": "stdout"
        }
      ]
    },
    {
      "cell_type": "code",
      "metadata": {
        "id": "KYVmKT_qWL15",
        "colab_type": "code",
        "colab": {}
      },
      "source": [
        ""
      ],
      "execution_count": 0,
      "outputs": []
    },
    {
      "cell_type": "code",
      "metadata": {
        "id": "oFzFLUOShMue",
        "colab_type": "code",
        "colab": {}
      },
      "source": [
        "def plot_confusion_matrix(cm, classes,\n",
        "                          normalize=False,\n",
        "                          title='Confusion matrix',\n",
        "                          cmap=plt.cm.Blues):\n",
        "    \"\"\"\n",
        "    This function prints and plots the confusion matrix.\n",
        "    Normalization can be applied by setting `normalize=True`.\n",
        "    \"\"\"\n",
        "    import itertools\n",
        "    if normalize:\n",
        "        cm = cm.astype('float') / cm.sum(axis=1)[:, np.newaxis]\n",
        "        print(\"Normalized confusion matrix\")\n",
        "    else:\n",
        "        print('Confusion matrix, without normalization')\n",
        "\n",
        "    #print(cm)\n",
        "\n",
        "    plt.imshow(cm, interpolation='nearest', cmap=cmap)\n",
        "    plt.title(title)\n",
        "    plt.colorbar()\n",
        "    tick_marks = np.arange(len(classes))\n",
        "    plt.xticks(tick_marks, classes, rotation=45)\n",
        "    plt.yticks(tick_marks, classes)\n",
        "\n",
        "    fmt = '.2f' if normalize else 'd'\n",
        "    thresh = cm.max() / 2.\n",
        "    for i, j in itertools.product(range(cm.shape[0]), range(cm.shape[1])):\n",
        "        plt.text(j, i, format(cm[i, j], fmt),\n",
        "                 horizontalalignment=\"center\",\n",
        "                 color=\"white\" if cm[i, j] > thresh else \"black\")\n",
        "\n",
        "    plt.ylabel('True label')\n",
        "    plt.xlabel('Predicted label')\n",
        "    plt.tight_layout()"
      ],
      "execution_count": 0,
      "outputs": []
    },
    {
      "cell_type": "code",
      "metadata": {
        "id": "HME5sTo4hTcm",
        "colab_type": "code",
        "outputId": "3e2d1005-d4e0-4cd4-cf6a-761ac3360b6b",
        "colab": {
          "base_uri": "https://localhost:8080/",
          "height": 313
        }
      },
      "source": [
        "\n",
        "np.set_printoptions(precision=2)\n",
        "\n",
        "# Plot non-normalized confusion matrix\n",
        "plt.figure()\n",
        "plot_confusion_matrix(cm, classes=['h', 'in', 'ou','brb1','brb3'],title='Confusion matrix of train data')"
      ],
      "execution_count": 0,
      "outputs": [
        {
          "output_type": "stream",
          "text": [
            "Confusion matrix, without normalization\n"
          ],
          "name": "stdout"
        },
        {
          "output_type": "display_data",
          "data": {
            "image/png": "[encoded data removed]",
            "text/plain": [
              "<Figure size 432x288 with 2 Axes>"
            ]
          },
          "metadata": {
            "tags": []
          }
        }
      ]
    },
    {
      "cell_type": "code",
      "metadata": {
        "id": "zz_ZvxcShjGk",
        "colab_type": "code",
        "outputId": "f9ece1c1-8123-4981-da44-dfa95eca3a42",
        "colab": {
          "base_uri": "https://localhost:8080/",
          "height": 296
        }
      },
      "source": [
        "import matplotlib.pyplot as plt\n",
        "import numpy as np\n",
        "\n",
        "\n",
        "labels = ['Tanh', 'Sigmoid', 'ELU', 'ReLU']\n",
        "#Train_Accuracy = [96, 99, 100, 100, 100,100,100]\n",
        "Test_Acc = [100, 97,99, 98]\n",
        "\n",
        "\n",
        "x = np.arange(len(labels))  # the label locations\n",
        "width = 0.3 # the width of the bars\n",
        "\n",
        "fig, ax = plt.subplots()\n",
        "#rects1 = ax.bar(x - width/2, Train_Accuracy, width, label='Train Accuracy')\n",
        "rects2 = ax.bar(x + width/2,Test_Acc, width, label='Test_Acc')\n",
        " \n",
        "\n",
        "# Add some text for labels, title and custom x-axis tick labels, etc.\n",
        "ax.set_ylabel('Accuracy')\n",
        "ax.set_xlabel('Type of model based on Activation Function ')\n",
        "ax.set_title('Accuracy of each optimised  Model')\n",
        "ax.set_xticks(x)\n",
        "ax.set_xticklabels(labels)\n",
        "#ax.legend()\n",
        "\n",
        "\n",
        "def autolabel(rects):\n",
        "    \"\"\"Attach a text label above each bar in *rects*, displaying its height.\"\"\"\n",
        "    for rect in rects:\n",
        "        height = rect.get_height()\n",
        "        ax.annotate('{}'.format(height),\n",
        "                    xy=(rect.get_x() + rect.get_width() / 2, height),\n",
        "                    xytext=(0, 3),  # 3 points vertical offset\n",
        "                    textcoords=\"offset points\",\n",
        "                    ha='center', va='bottom')\n",
        "\n",
        "\n",
        "#autolabel(rects1)\n",
        "autolabel(rects2)\n",
        "\n",
        "\n",
        "fig.tight_layout()\n",
        "\n",
        "plt.show()"
      ],
      "execution_count": 0,
      "outputs": [
        {
          "output_type": "display_data",
          "data": {
            "image/png": "[encoded data removed]",
            "text/plain": [
              "<Figure size 432x288 with 1 Axes>"
            ]
          },
          "metadata": {
            "tags": []
          }
        }
      ]
    },
    {
      "cell_type": "code",
      "metadata": {
        "id": "zBR_PKoBDi5W",
        "colab_type": "code",
        "colab": {}
      },
      "source": [
        ""
      ],
      "execution_count": 0,
      "outputs": []
    }
  ]
}